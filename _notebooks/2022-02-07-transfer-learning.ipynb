{
  "nbformat": 4,
  "nbformat_minor": 0,
  "metadata": {
    "colab": {
      "name": "Transfer Learning.ipynb",
      "provenance": [],
      "collapsed_sections": [],
      "machine_shape": "hm"
    },
    "kernelspec": {
      "name": "python3",
      "display_name": "Python 3"
    },
    "language_info": {
      "name": "python"
    },
    "accelerator": "GPU"
  },
  "cells": [
    {
      "cell_type": "markdown",
      "source": [
        "# Transfer Learning\n",
        "> Basics on transfer learning\n",
        "\n",
        "- toc: true \n",
        "- badges: true\n",
        "- comments: true\n",
        "- categories: [jupyter]\n",
        "- image: "
      ],
      "metadata": {
        "id": "5B3NetPaAv0v"
      }
    },
    {
      "cell_type": "markdown",
      "source": [
        "\n",
        "##Introduction\n",
        "[Transfer learning](https://en.wikipedia.org/wiki/Transfer_learning) allows us to use trained layers from other models and apply them to our models. We can save time and resources by not having to train large networks.\n",
        "\n",
        "##Objective\n",
        "We want to classify the images in the [CIFAR10](https://www.cs.toronto.edu/~kriz/cifar.html) dataset. It contains 60,000 images in 10 classes.\n",
        "\n",
        "##Approach\n",
        "Here we use a well known pre-trained model (ResNet50) for image classification. On top of it, we add some fully connected layers to classify the learned features into ten categories."
      ],
      "metadata": {
        "id": "Q72r3ficzpbM"
      }
    },
    {
      "cell_type": "markdown",
      "source": [
        "###1.Import Libraries"
      ],
      "metadata": {
        "id": "5a04FXPz8n1c"
      }
    },
    {
      "cell_type": "code",
      "source": [
        "import math\n",
        "import tensorflow as tf\n",
        "import matplotlib.pyplot as plt\n",
        "import numpy as np\n",
        "from tensorflow.keras import Model\n",
        "from tensorflow.keras import layers\n",
        "from tensorflow.keras.applications import ResNet50"
      ],
      "metadata": {
        "id": "yQTDOiwp8gML"
      },
      "execution_count": 1,
      "outputs": []
    },
    {
      "cell_type": "markdown",
      "source": [
        "###2. Load the dataset\n",
        "CIFAR10 dataset is readily accessible through keras."
      ],
      "metadata": {
        "id": "-8P1Lhd_80AA"
      }
    },
    {
      "cell_type": "code",
      "source": [
        "(train_img, train_lbl), (test_img, test_lbl) = tf.keras.datasets.cifar10.load_data()"
      ],
      "metadata": {
        "colab": {
          "base_uri": "https://localhost:8080/"
        },
        "id": "DhaGfMZjRvP6",
        "outputId": "efe579fb-b38c-41c2-d3f7-7d8d39c1e147"
      },
      "execution_count": 2,
      "outputs": [
        {
          "output_type": "stream",
          "name": "stdout",
          "text": [
            "Downloading data from https://www.cs.toronto.edu/~kriz/cifar-10-python.tar.gz\n",
            "170500096/170498071 [==============================] - 12s 0us/step\n",
            "170508288/170498071 [==============================] - 12s 0us/step\n"
          ]
        }
      ]
    },
    {
      "cell_type": "markdown",
      "source": [
        "###3. Preprocess images\n",
        "[Pre-processing](https://www.tensorflow.org/api_docs/python/tf/keras/applications/resnet50/preprocess_input) converts RGB to BGR, zero-centers each color channel with respect to the ImageNet dataset."
      ],
      "metadata": {
        "id": "NNw_rYs286Ii"
      }
    },
    {
      "cell_type": "code",
      "source": [
        "train_img = (train_img).astype('float32')\n",
        "test_img = (test_img).astype('float32')\n",
        "train_img = tf.keras.applications.resnet50.preprocess_input(train_img)\n",
        "test_img = tf.keras.applications.resnet50.preprocess_input(test_img)\n",
        "\n",
        "NUM_EPOCHS = 20\n",
        "print('Test images: ', test_img.shape)\n",
        "print('Train images: ', train_img.shape)"
      ],
      "metadata": {
        "colab": {
          "base_uri": "https://localhost:8080/"
        },
        "id": "zWWzVE_787Rm",
        "outputId": "55cc50d1-7659-4a1e-b713-d6b39637f822"
      },
      "execution_count": 3,
      "outputs": [
        {
          "output_type": "stream",
          "name": "stdout",
          "text": [
            "Test images:  (10000, 32, 32, 3)\n",
            "Train images:  (50000, 32, 32, 3)\n"
          ]
        }
      ]
    },
    {
      "cell_type": "markdown",
      "source": [
        "###4. Load ResNet50 model\n",
        "Use weights from imagenet, do not include the top layers, and freeze each layer to not-trainable. We want to use the trained model as is with some modifications."
      ],
      "metadata": {
        "id": "0eCtq1LX90T2"
      }
    },
    {
      "cell_type": "code",
      "source": [
        "# get pre trained model\n",
        "pre_trained_model = ResNet50(input_shape = (224, 224, 3), weights='imagenet', classes = 10, include_top = False)\n",
        "for layer in pre_trained_model.layers:\n",
        "  layer.trainable = False"
      ],
      "metadata": {
        "colab": {
          "base_uri": "https://localhost:8080/"
        },
        "id": "0b2lp9Sl9zIn",
        "outputId": "8912c22e-1cb4-41c9-98d0-01231bce905c"
      },
      "execution_count": 4,
      "outputs": [
        {
          "output_type": "stream",
          "name": "stdout",
          "text": [
            "Downloading data from https://storage.googleapis.com/tensorflow/keras-applications/resnet/resnet50_weights_tf_dim_ordering_tf_kernels_notop.h5\n",
            "94773248/94765736 [==============================] - 0s 0us/step\n",
            "94781440/94765736 [==============================] - 0s 0us/step\n"
          ]
        }
      ]
    },
    {
      "cell_type": "markdown",
      "source": [
        "###5. Create model\n",
        "\n",
        "- Specify shape of images for input.\n",
        "- Upsample image size by 7x to match ResNet50 architecture.\n",
        "- Add the pre-trained model.\n",
        "- Flatten the output of the model.\n",
        "- Add a few dense layers to adapt the model to your dataset. Use the relu activation function.\n",
        "- Specify the output with 10 output categories and a softmax activation."
      ],
      "metadata": {
        "id": "3yjnz11K97Fn"
      }
    },
    {
      "cell_type": "code",
      "source": [
        "inputs = tf.keras.layers.Input(shape=(32,32,3))\n",
        "x = tf.keras.layers.UpSampling2D(size=(7,7))(inputs)\n",
        "x = (pre_trained_model)(x)\n",
        "x = layers.GlobalAveragePooling2D()(x)\n",
        "x = layers.Dense(1024, activation='relu')(x)\n",
        "x = layers.Dropout(0.2)(x)\n",
        "x = layers.Dense(512, activation='relu')(x)\n",
        "x = layers.Dense(10, activation='softmax')(x)\n",
        "tx_model = tf.keras.Model(inputs = inputs, outputs = x)"
      ],
      "metadata": {
        "id": "iIU8okpR97RI"
      },
      "execution_count": 5,
      "outputs": []
    },
    {
      "cell_type": "markdown",
      "source": [
        "###6. Compile model\n",
        "\n",
        "Use Stochastic Gradient Descent for optimization, sparse categorical crossentropy as the loss parameter, and accuracy as the metric. Then fit the model using the training images and labels."
      ],
      "metadata": {
        "id": "4iLY8SZq9-cI"
      }
    },
    {
      "cell_type": "code",
      "source": [
        "tx_model.compile(optimizer='SGD', loss='sparse_categorical_crossentropy', metrics = ['accuracy'])\n",
        "tx_model.summary()\n",
        "history = tx_model.fit(train_img, train_lbl, batch_size=256, epochs = NUM_EPOCHS, validation_data = (test_img, test_lbl), verbose = 1) "
      ],
      "metadata": {
        "colab": {
          "base_uri": "https://localhost:8080/"
        },
        "id": "cdiIUfdK9-l3",
        "outputId": "2eb49111-af78-4a3c-f3f6-7c8254ae6cd3"
      },
      "execution_count": 6,
      "outputs": [
        {
          "output_type": "stream",
          "name": "stdout",
          "text": [
            "Model: \"model\"\n",
            "_________________________________________________________________\n",
            " Layer (type)                Output Shape              Param #   \n",
            "=================================================================\n",
            " input_2 (InputLayer)        [(None, 32, 32, 3)]       0         \n",
            "                                                                 \n",
            " up_sampling2d (UpSampling2D  (None, 224, 224, 3)      0         \n",
            " )                                                               \n",
            "                                                                 \n",
            " resnet50 (Functional)       (None, 7, 7, 2048)        23587712  \n",
            "                                                                 \n",
            " global_average_pooling2d (G  (None, 2048)             0         \n",
            " lobalAveragePooling2D)                                          \n",
            "                                                                 \n",
            " dense (Dense)               (None, 1024)              2098176   \n",
            "                                                                 \n",
            " dropout (Dropout)           (None, 1024)              0         \n",
            "                                                                 \n",
            " dense_1 (Dense)             (None, 512)               524800    \n",
            "                                                                 \n",
            " dense_2 (Dense)             (None, 10)                5130      \n",
            "                                                                 \n",
            "=================================================================\n",
            "Total params: 26,215,818\n",
            "Trainable params: 2,628,106\n",
            "Non-trainable params: 23,587,712\n",
            "_________________________________________________________________\n",
            "Epoch 1/20\n",
            "196/196 [==============================] - 90s 408ms/step - loss: 1.1992 - accuracy: 0.5885 - val_loss: 0.8620 - val_accuracy: 0.7040\n",
            "Epoch 2/20\n",
            "196/196 [==============================] - 79s 401ms/step - loss: 0.8300 - accuracy: 0.7135 - val_loss: 0.7340 - val_accuracy: 0.7436\n",
            "Epoch 3/20\n",
            "196/196 [==============================] - 79s 401ms/step - loss: 0.7389 - accuracy: 0.7425 - val_loss: 0.6749 - val_accuracy: 0.7644\n",
            "Epoch 4/20\n",
            "196/196 [==============================] - 79s 401ms/step - loss: 0.6850 - accuracy: 0.7631 - val_loss: 0.6593 - val_accuracy: 0.7700\n",
            "Epoch 5/20\n",
            "196/196 [==============================] - 79s 401ms/step - loss: 0.6479 - accuracy: 0.7757 - val_loss: 0.6292 - val_accuracy: 0.7794\n",
            "Epoch 6/20\n",
            "196/196 [==============================] - 79s 401ms/step - loss: 0.6174 - accuracy: 0.7851 - val_loss: 0.6192 - val_accuracy: 0.7809\n",
            "Epoch 7/20\n",
            "196/196 [==============================] - 79s 401ms/step - loss: 0.5981 - accuracy: 0.7910 - val_loss: 0.6085 - val_accuracy: 0.7889\n",
            "Epoch 8/20\n",
            "196/196 [==============================] - 78s 401ms/step - loss: 0.5761 - accuracy: 0.8007 - val_loss: 0.5799 - val_accuracy: 0.7978\n",
            "Epoch 9/20\n",
            "196/196 [==============================] - 79s 401ms/step - loss: 0.5592 - accuracy: 0.8061 - val_loss: 0.5734 - val_accuracy: 0.7996\n",
            "Epoch 10/20\n",
            "196/196 [==============================] - 78s 401ms/step - loss: 0.5449 - accuracy: 0.8113 - val_loss: 0.5621 - val_accuracy: 0.8046\n",
            "Epoch 11/20\n",
            "196/196 [==============================] - 78s 401ms/step - loss: 0.5319 - accuracy: 0.8142 - val_loss: 0.5693 - val_accuracy: 0.8010\n",
            "Epoch 12/20\n",
            "196/196 [==============================] - 79s 401ms/step - loss: 0.5186 - accuracy: 0.8193 - val_loss: 0.5430 - val_accuracy: 0.8121\n",
            "Epoch 13/20\n",
            "196/196 [==============================] - 78s 401ms/step - loss: 0.5085 - accuracy: 0.8208 - val_loss: 0.5291 - val_accuracy: 0.8145\n",
            "Epoch 14/20\n",
            "196/196 [==============================] - 78s 401ms/step - loss: 0.4980 - accuracy: 0.8261 - val_loss: 0.5256 - val_accuracy: 0.8197\n",
            "Epoch 15/20\n",
            "196/196 [==============================] - 79s 401ms/step - loss: 0.4877 - accuracy: 0.8309 - val_loss: 0.5555 - val_accuracy: 0.8056\n",
            "Epoch 16/20\n",
            "196/196 [==============================] - 79s 401ms/step - loss: 0.4759 - accuracy: 0.8342 - val_loss: 0.5302 - val_accuracy: 0.8123\n",
            "Epoch 17/20\n",
            "196/196 [==============================] - 78s 401ms/step - loss: 0.4670 - accuracy: 0.8378 - val_loss: 0.5361 - val_accuracy: 0.8112\n",
            "Epoch 18/20\n",
            "196/196 [==============================] - 78s 401ms/step - loss: 0.4585 - accuracy: 0.8411 - val_loss: 0.5069 - val_accuracy: 0.8228\n",
            "Epoch 19/20\n",
            "196/196 [==============================] - 78s 401ms/step - loss: 0.4513 - accuracy: 0.8433 - val_loss: 0.5061 - val_accuracy: 0.8254\n",
            "Epoch 20/20\n",
            "196/196 [==============================] - 79s 401ms/step - loss: 0.4446 - accuracy: 0.8441 - val_loss: 0.5036 - val_accuracy: 0.8217\n"
          ]
        }
      ]
    },
    {
      "cell_type": "markdown",
      "source": [
        "###7. Plot results\n",
        "Plot the response (accuracy and loss) by epochs for the training and validation sets."
      ],
      "metadata": {
        "id": "sJbpNwG2-Aan"
      }
    },
    {
      "cell_type": "code",
      "source": [
        "# plot accuracy and loss\n",
        "acc=history.history['accuracy']\n",
        "val_acc=history.history['val_accuracy']\n",
        "loss=history.history['loss']\n",
        "val_loss=history.history['val_loss']\n",
        "epochs=range(len(acc))\n",
        "\n",
        "plt.plot(epochs, acc, 'o-r', label='Training')\n",
        "plt.plot(epochs, val_acc, 'o--b', label='Test')\n",
        "plt.title('Accuracy: Training and Validation')\n",
        "plt.legend(loc=\"lower right\")\n",
        "plt.figure()\n",
        "\n",
        "plt.plot(epochs, loss, 'o-r', label='Training')\n",
        "plt.plot(epochs, val_loss, 'o--b', label='Test')\n",
        "plt.title('Loss: Training and Validation')\n",
        "plt.legend(loc=\"upper right\")"
      ],
      "metadata": {
        "colab": {
          "base_uri": "https://localhost:8080/",
          "height": 562
        },
        "id": "n8lavkz7-Ake",
        "outputId": "f44a9acc-987a-4d03-fd21-21597884be39"
      },
      "execution_count": 7,
      "outputs": [
        {
          "output_type": "execute_result",
          "data": {
            "text/plain": [
              "<matplotlib.legend.Legend at 0x7fb97e577ad0>"
            ]
          },
          "metadata": {},
          "execution_count": 7
        },
        {
          "output_type": "display_data",
          "data": {
            "image/png": "[encoded data removed]",
            "text/plain": [
              "<Figure size 432x288 with 1 Axes>"
            ]
          },
          "metadata": {
            "needs_background": "light"
          }
        },
        {
          "output_type": "display_data",
          "data": {
            "image/png": "[encoded data removed]",
            "text/plain": [
              "<Figure size 432x288 with 1 Axes>"
            ]
          },
          "metadata": {
            "needs_background": "light"
          }
        }
      ]
    }
  ]
}
